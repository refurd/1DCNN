{
  "nbformat": 4,
  "nbformat_minor": 0,
  "metadata": {
    "colab": {
      "name": "Arima - Covid.ipynb",
      "provenance": []
    },
    "kernelspec": {
      "name": "python3",
      "display_name": "Python 3"
    }
  },
  "cells": [
    {
      "cell_type": "markdown",
      "metadata": {
        "id": "9LR7OEwlO5gY"
      },
      "source": [
        "# ARIMA becslés\n",
        "\n",
        "Ehhez az R-ben ismeretes auto-arima függvény implementálációját használjuk Pythonban."
      ]
    },
    {
      "cell_type": "code",
      "metadata": {
        "colab": {
          "base_uri": "https://localhost:8080/"
        },
        "id": "tyZ3NXQFABaQ",
        "outputId": "561c418e-2331-4535-c173-3c5bdda7a5e3"
      },
      "source": [
        "!pip install pmdarima"
      ],
      "execution_count": null,
      "outputs": [
        {
          "output_type": "stream",
          "text": [
            "Requirement already satisfied: pmdarima in /usr/local/lib/python3.6/dist-packages (1.7.1)\n",
            "Requirement already satisfied: scikit-learn>=0.22 in /usr/local/lib/python3.6/dist-packages (from pmdarima) (0.22.2.post1)\n",
            "Requirement already satisfied: Cython<0.29.18,>=0.29 in /usr/local/lib/python3.6/dist-packages (from pmdarima) (0.29.17)\n",
            "Requirement already satisfied: joblib>=0.11 in /usr/local/lib/python3.6/dist-packages (from pmdarima) (0.17.0)\n",
            "Requirement already satisfied: scipy>=1.3.2 in /usr/local/lib/python3.6/dist-packages (from pmdarima) (1.4.1)\n",
            "Requirement already satisfied: urllib3 in /usr/local/lib/python3.6/dist-packages (from pmdarima) (1.24.3)\n",
            "Requirement already satisfied: numpy>=1.17.3 in /usr/local/lib/python3.6/dist-packages (from pmdarima) (1.18.5)\n",
            "Requirement already satisfied: setuptools<50.0.0 in /usr/local/lib/python3.6/dist-packages (from pmdarima) (49.6.0)\n",
            "Requirement already satisfied: pandas>=0.19 in /usr/local/lib/python3.6/dist-packages (from pmdarima) (1.1.4)\n",
            "Requirement already satisfied: statsmodels<0.12,>=0.11 in /usr/local/lib/python3.6/dist-packages (from pmdarima) (0.11.1)\n",
            "Requirement already satisfied: python-dateutil>=2.7.3 in /usr/local/lib/python3.6/dist-packages (from pandas>=0.19->pmdarima) (2.8.1)\n",
            "Requirement already satisfied: pytz>=2017.2 in /usr/local/lib/python3.6/dist-packages (from pandas>=0.19->pmdarima) (2018.9)\n",
            "Requirement already satisfied: patsy>=0.5 in /usr/local/lib/python3.6/dist-packages (from statsmodels<0.12,>=0.11->pmdarima) (0.5.1)\n",
            "Requirement already satisfied: six>=1.5 in /usr/local/lib/python3.6/dist-packages (from python-dateutil>=2.7.3->pandas>=0.19->pmdarima) (1.15.0)\n"
          ],
          "name": "stdout"
        }
      ]
    },
    {
      "cell_type": "markdown",
      "metadata": {
        "id": "3JX-uDCmPOvS"
      },
      "source": [
        "Szükséges könyvtárak importálása"
      ]
    },
    {
      "cell_type": "code",
      "metadata": {
        "id": "CDzSdS0aPLNv"
      },
      "source": [
        "import pandas as pd\n",
        "import numpy as np\n",
        "import matplotlib.pyplot as plt\n",
        "import pmdarima as pm"
      ],
      "execution_count": null,
      "outputs": []
    },
    {
      "cell_type": "markdown",
      "metadata": {
        "id": "vEmUXwHTPGFT"
      },
      "source": [
        "Adatok beolvasása githubról, ha nincs access, akkor a 8. nap/Adatok-ban található a teszt fájl."
      ]
    },
    {
      "cell_type": "code",
      "metadata": {
        "colab": {
          "base_uri": "https://localhost:8080/"
        },
        "id": "fXJhTCM-Az3D",
        "outputId": "87ce9875-7700-445f-9d65-c951137c7e5a"
      },
      "source": [
        "!wget https://raw.githubusercontent.com/CSSEGISandData/COVID-19/master/csse_covid_19_data/csse_covid_19_time_series/time_series_covid19_confirmed_global.csv"
      ],
      "execution_count": 29,
      "outputs": [
        {
          "output_type": "stream",
          "text": [
            "--2020-11-24 11:24:27--  https://raw.githubusercontent.com/CSSEGISandData/COVID-19/master/csse_covid_19_data/csse_covid_19_time_series/time_series_covid19_confirmed_global.csv\n",
            "Resolving raw.githubusercontent.com (raw.githubusercontent.com)... 151.101.0.133, 151.101.64.133, 151.101.128.133, ...\n",
            "Connecting to raw.githubusercontent.com (raw.githubusercontent.com)|151.101.0.133|:443... connected.\n",
            "HTTP request sent, awaiting response... 200 OK\n",
            "Length: 358914 (351K) [text/plain]\n",
            "Saving to: ‘time_series_covid19_confirmed_global.csv.2’\n",
            "\n",
            "\r          time_seri   0%[                    ]       0  --.-KB/s               \rtime_series_covid19 100%[===================>] 350.50K  --.-KB/s    in 0.04s   \n",
            "\n",
            "2020-11-24 11:24:27 (8.59 MB/s) - ‘time_series_covid19_confirmed_global.csv.2’ saved [358914/358914]\n",
            "\n"
          ],
          "name": "stdout"
        }
      ]
    },
    {
      "cell_type": "markdown",
      "metadata": {
        "id": "FLYUUwVgPS5R"
      },
      "source": [
        "Pandas könyvtár segítségével az adatokat beolvassuk."
      ]
    },
    {
      "cell_type": "code",
      "metadata": {
        "colab": {
          "base_uri": "https://localhost:8080/",
          "height": 252
        },
        "id": "h7D_ErNnBAEo",
        "outputId": "543b7954-4d3e-4878-c026-f46004db102b"
      },
      "source": [
        "df = pd.read_csv('time_series_covid19_confirmed_global.csv')\n",
        "df.head()"
      ],
      "execution_count": null,
      "outputs": [
        {
          "output_type": "execute_result",
          "data": {
            "text/html": [
              "<div>\n",
              "<style scoped>\n",
              "    .dataframe tbody tr th:only-of-type {\n",
              "        vertical-align: middle;\n",
              "    }\n",
              "\n",
              "    .dataframe tbody tr th {\n",
              "        vertical-align: top;\n",
              "    }\n",
              "\n",
              "    .dataframe thead th {\n",
              "        text-align: right;\n",
              "    }\n",
              "</style>\n",
              "<table border=\"1\" class=\"dataframe\">\n",
              "  <thead>\n",
              "    <tr style=\"text-align: right;\">\n",
              "      <th></th>\n",
              "      <th>Province/State</th>\n",
              "      <th>Country/Region</th>\n",
              "      <th>Lat</th>\n",
              "      <th>Long</th>\n",
              "      <th>1/22/20</th>\n",
              "      <th>1/23/20</th>\n",
              "      <th>1/24/20</th>\n",
              "      <th>1/25/20</th>\n",
              "      <th>1/26/20</th>\n",
              "      <th>1/27/20</th>\n",
              "      <th>1/28/20</th>\n",
              "      <th>1/29/20</th>\n",
              "      <th>1/30/20</th>\n",
              "      <th>1/31/20</th>\n",
              "      <th>2/1/20</th>\n",
              "      <th>2/2/20</th>\n",
              "      <th>2/3/20</th>\n",
              "      <th>2/4/20</th>\n",
              "      <th>2/5/20</th>\n",
              "      <th>2/6/20</th>\n",
              "      <th>2/7/20</th>\n",
              "      <th>2/8/20</th>\n",
              "      <th>2/9/20</th>\n",
              "      <th>2/10/20</th>\n",
              "      <th>2/11/20</th>\n",
              "      <th>2/12/20</th>\n",
              "      <th>2/13/20</th>\n",
              "      <th>2/14/20</th>\n",
              "      <th>2/15/20</th>\n",
              "      <th>2/16/20</th>\n",
              "      <th>2/17/20</th>\n",
              "      <th>2/18/20</th>\n",
              "      <th>2/19/20</th>\n",
              "      <th>2/20/20</th>\n",
              "      <th>2/21/20</th>\n",
              "      <th>2/22/20</th>\n",
              "      <th>2/23/20</th>\n",
              "      <th>2/24/20</th>\n",
              "      <th>2/25/20</th>\n",
              "      <th>2/26/20</th>\n",
              "      <th>...</th>\n",
              "      <th>10/15/20</th>\n",
              "      <th>10/16/20</th>\n",
              "      <th>10/17/20</th>\n",
              "      <th>10/18/20</th>\n",
              "      <th>10/19/20</th>\n",
              "      <th>10/20/20</th>\n",
              "      <th>10/21/20</th>\n",
              "      <th>10/22/20</th>\n",
              "      <th>10/23/20</th>\n",
              "      <th>10/24/20</th>\n",
              "      <th>10/25/20</th>\n",
              "      <th>10/26/20</th>\n",
              "      <th>10/27/20</th>\n",
              "      <th>10/28/20</th>\n",
              "      <th>10/29/20</th>\n",
              "      <th>10/30/20</th>\n",
              "      <th>10/31/20</th>\n",
              "      <th>11/1/20</th>\n",
              "      <th>11/2/20</th>\n",
              "      <th>11/3/20</th>\n",
              "      <th>11/4/20</th>\n",
              "      <th>11/5/20</th>\n",
              "      <th>11/6/20</th>\n",
              "      <th>11/7/20</th>\n",
              "      <th>11/8/20</th>\n",
              "      <th>11/9/20</th>\n",
              "      <th>11/10/20</th>\n",
              "      <th>11/11/20</th>\n",
              "      <th>11/12/20</th>\n",
              "      <th>11/13/20</th>\n",
              "      <th>11/14/20</th>\n",
              "      <th>11/15/20</th>\n",
              "      <th>11/16/20</th>\n",
              "      <th>11/17/20</th>\n",
              "      <th>11/18/20</th>\n",
              "      <th>11/19/20</th>\n",
              "      <th>11/20/20</th>\n",
              "      <th>11/21/20</th>\n",
              "      <th>11/22/20</th>\n",
              "      <th>11/23/20</th>\n",
              "    </tr>\n",
              "  </thead>\n",
              "  <tbody>\n",
              "    <tr>\n",
              "      <th>0</th>\n",
              "      <td>NaN</td>\n",
              "      <td>Afghanistan</td>\n",
              "      <td>33.93911</td>\n",
              "      <td>67.709953</td>\n",
              "      <td>0</td>\n",
              "      <td>0</td>\n",
              "      <td>0</td>\n",
              "      <td>0</td>\n",
              "      <td>0</td>\n",
              "      <td>0</td>\n",
              "      <td>0</td>\n",
              "      <td>0</td>\n",
              "      <td>0</td>\n",
              "      <td>0</td>\n",
              "      <td>0</td>\n",
              "      <td>0</td>\n",
              "      <td>0</td>\n",
              "      <td>0</td>\n",
              "      <td>0</td>\n",
              "      <td>0</td>\n",
              "      <td>0</td>\n",
              "      <td>0</td>\n",
              "      <td>0</td>\n",
              "      <td>0</td>\n",
              "      <td>0</td>\n",
              "      <td>0</td>\n",
              "      <td>0</td>\n",
              "      <td>0</td>\n",
              "      <td>0</td>\n",
              "      <td>0</td>\n",
              "      <td>0</td>\n",
              "      <td>0</td>\n",
              "      <td>0</td>\n",
              "      <td>0</td>\n",
              "      <td>0</td>\n",
              "      <td>0</td>\n",
              "      <td>0</td>\n",
              "      <td>1</td>\n",
              "      <td>1</td>\n",
              "      <td>1</td>\n",
              "      <td>...</td>\n",
              "      <td>40026</td>\n",
              "      <td>40073</td>\n",
              "      <td>40141</td>\n",
              "      <td>40200</td>\n",
              "      <td>40287</td>\n",
              "      <td>40357</td>\n",
              "      <td>40510</td>\n",
              "      <td>40626</td>\n",
              "      <td>40687</td>\n",
              "      <td>40768</td>\n",
              "      <td>40833</td>\n",
              "      <td>40937</td>\n",
              "      <td>41032</td>\n",
              "      <td>41145</td>\n",
              "      <td>41268</td>\n",
              "      <td>41334</td>\n",
              "      <td>41425</td>\n",
              "      <td>41501</td>\n",
              "      <td>41633</td>\n",
              "      <td>41728</td>\n",
              "      <td>41814</td>\n",
              "      <td>41935</td>\n",
              "      <td>41975</td>\n",
              "      <td>42033</td>\n",
              "      <td>42092</td>\n",
              "      <td>42297</td>\n",
              "      <td>42463</td>\n",
              "      <td>42609</td>\n",
              "      <td>42795</td>\n",
              "      <td>42969</td>\n",
              "      <td>43035</td>\n",
              "      <td>43240</td>\n",
              "      <td>43403</td>\n",
              "      <td>43628</td>\n",
              "      <td>43851</td>\n",
              "      <td>44228</td>\n",
              "      <td>44443</td>\n",
              "      <td>44503</td>\n",
              "      <td>44706</td>\n",
              "      <td>44988</td>\n",
              "    </tr>\n",
              "    <tr>\n",
              "      <th>1</th>\n",
              "      <td>NaN</td>\n",
              "      <td>Albania</td>\n",
              "      <td>41.15330</td>\n",
              "      <td>20.168300</td>\n",
              "      <td>0</td>\n",
              "      <td>0</td>\n",
              "      <td>0</td>\n",
              "      <td>0</td>\n",
              "      <td>0</td>\n",
              "      <td>0</td>\n",
              "      <td>0</td>\n",
              "      <td>0</td>\n",
              "      <td>0</td>\n",
              "      <td>0</td>\n",
              "      <td>0</td>\n",
              "      <td>0</td>\n",
              "      <td>0</td>\n",
              "      <td>0</td>\n",
              "      <td>0</td>\n",
              "      <td>0</td>\n",
              "      <td>0</td>\n",
              "      <td>0</td>\n",
              "      <td>0</td>\n",
              "      <td>0</td>\n",
              "      <td>0</td>\n",
              "      <td>0</td>\n",
              "      <td>0</td>\n",
              "      <td>0</td>\n",
              "      <td>0</td>\n",
              "      <td>0</td>\n",
              "      <td>0</td>\n",
              "      <td>0</td>\n",
              "      <td>0</td>\n",
              "      <td>0</td>\n",
              "      <td>0</td>\n",
              "      <td>0</td>\n",
              "      <td>0</td>\n",
              "      <td>0</td>\n",
              "      <td>0</td>\n",
              "      <td>0</td>\n",
              "      <td>...</td>\n",
              "      <td>16212</td>\n",
              "      <td>16501</td>\n",
              "      <td>16774</td>\n",
              "      <td>17055</td>\n",
              "      <td>17350</td>\n",
              "      <td>17651</td>\n",
              "      <td>17948</td>\n",
              "      <td>18250</td>\n",
              "      <td>18556</td>\n",
              "      <td>18858</td>\n",
              "      <td>19157</td>\n",
              "      <td>19445</td>\n",
              "      <td>19729</td>\n",
              "      <td>20040</td>\n",
              "      <td>20315</td>\n",
              "      <td>20634</td>\n",
              "      <td>20875</td>\n",
              "      <td>21202</td>\n",
              "      <td>21523</td>\n",
              "      <td>21904</td>\n",
              "      <td>22300</td>\n",
              "      <td>22721</td>\n",
              "      <td>23210</td>\n",
              "      <td>23705</td>\n",
              "      <td>24206</td>\n",
              "      <td>24731</td>\n",
              "      <td>25294</td>\n",
              "      <td>25801</td>\n",
              "      <td>26211</td>\n",
              "      <td>26701</td>\n",
              "      <td>27233</td>\n",
              "      <td>27830</td>\n",
              "      <td>28432</td>\n",
              "      <td>29126</td>\n",
              "      <td>29837</td>\n",
              "      <td>30623</td>\n",
              "      <td>31459</td>\n",
              "      <td>32196</td>\n",
              "      <td>32761</td>\n",
              "      <td>33556</td>\n",
              "    </tr>\n",
              "    <tr>\n",
              "      <th>2</th>\n",
              "      <td>NaN</td>\n",
              "      <td>Algeria</td>\n",
              "      <td>28.03390</td>\n",
              "      <td>1.659600</td>\n",
              "      <td>0</td>\n",
              "      <td>0</td>\n",
              "      <td>0</td>\n",
              "      <td>0</td>\n",
              "      <td>0</td>\n",
              "      <td>0</td>\n",
              "      <td>0</td>\n",
              "      <td>0</td>\n",
              "      <td>0</td>\n",
              "      <td>0</td>\n",
              "      <td>0</td>\n",
              "      <td>0</td>\n",
              "      <td>0</td>\n",
              "      <td>0</td>\n",
              "      <td>0</td>\n",
              "      <td>0</td>\n",
              "      <td>0</td>\n",
              "      <td>0</td>\n",
              "      <td>0</td>\n",
              "      <td>0</td>\n",
              "      <td>0</td>\n",
              "      <td>0</td>\n",
              "      <td>0</td>\n",
              "      <td>0</td>\n",
              "      <td>0</td>\n",
              "      <td>0</td>\n",
              "      <td>0</td>\n",
              "      <td>0</td>\n",
              "      <td>0</td>\n",
              "      <td>0</td>\n",
              "      <td>0</td>\n",
              "      <td>0</td>\n",
              "      <td>0</td>\n",
              "      <td>0</td>\n",
              "      <td>1</td>\n",
              "      <td>1</td>\n",
              "      <td>...</td>\n",
              "      <td>53777</td>\n",
              "      <td>53998</td>\n",
              "      <td>54203</td>\n",
              "      <td>54402</td>\n",
              "      <td>54616</td>\n",
              "      <td>54829</td>\n",
              "      <td>55081</td>\n",
              "      <td>55357</td>\n",
              "      <td>55630</td>\n",
              "      <td>55880</td>\n",
              "      <td>56143</td>\n",
              "      <td>56419</td>\n",
              "      <td>56706</td>\n",
              "      <td>57026</td>\n",
              "      <td>57332</td>\n",
              "      <td>57651</td>\n",
              "      <td>57942</td>\n",
              "      <td>58272</td>\n",
              "      <td>58574</td>\n",
              "      <td>58979</td>\n",
              "      <td>59527</td>\n",
              "      <td>60169</td>\n",
              "      <td>60800</td>\n",
              "      <td>61381</td>\n",
              "      <td>62051</td>\n",
              "      <td>62693</td>\n",
              "      <td>63446</td>\n",
              "      <td>64257</td>\n",
              "      <td>65108</td>\n",
              "      <td>65975</td>\n",
              "      <td>66819</td>\n",
              "      <td>67679</td>\n",
              "      <td>68589</td>\n",
              "      <td>69591</td>\n",
              "      <td>70629</td>\n",
              "      <td>71652</td>\n",
              "      <td>72755</td>\n",
              "      <td>73774</td>\n",
              "      <td>74862</td>\n",
              "      <td>75867</td>\n",
              "    </tr>\n",
              "    <tr>\n",
              "      <th>3</th>\n",
              "      <td>NaN</td>\n",
              "      <td>Andorra</td>\n",
              "      <td>42.50630</td>\n",
              "      <td>1.521800</td>\n",
              "      <td>0</td>\n",
              "      <td>0</td>\n",
              "      <td>0</td>\n",
              "      <td>0</td>\n",
              "      <td>0</td>\n",
              "      <td>0</td>\n",
              "      <td>0</td>\n",
              "      <td>0</td>\n",
              "      <td>0</td>\n",
              "      <td>0</td>\n",
              "      <td>0</td>\n",
              "      <td>0</td>\n",
              "      <td>0</td>\n",
              "      <td>0</td>\n",
              "      <td>0</td>\n",
              "      <td>0</td>\n",
              "      <td>0</td>\n",
              "      <td>0</td>\n",
              "      <td>0</td>\n",
              "      <td>0</td>\n",
              "      <td>0</td>\n",
              "      <td>0</td>\n",
              "      <td>0</td>\n",
              "      <td>0</td>\n",
              "      <td>0</td>\n",
              "      <td>0</td>\n",
              "      <td>0</td>\n",
              "      <td>0</td>\n",
              "      <td>0</td>\n",
              "      <td>0</td>\n",
              "      <td>0</td>\n",
              "      <td>0</td>\n",
              "      <td>0</td>\n",
              "      <td>0</td>\n",
              "      <td>0</td>\n",
              "      <td>0</td>\n",
              "      <td>...</td>\n",
              "      <td>3190</td>\n",
              "      <td>3377</td>\n",
              "      <td>3377</td>\n",
              "      <td>3377</td>\n",
              "      <td>3623</td>\n",
              "      <td>3623</td>\n",
              "      <td>3811</td>\n",
              "      <td>3811</td>\n",
              "      <td>4038</td>\n",
              "      <td>4038</td>\n",
              "      <td>4038</td>\n",
              "      <td>4325</td>\n",
              "      <td>4410</td>\n",
              "      <td>4517</td>\n",
              "      <td>4567</td>\n",
              "      <td>4665</td>\n",
              "      <td>4756</td>\n",
              "      <td>4825</td>\n",
              "      <td>4888</td>\n",
              "      <td>4910</td>\n",
              "      <td>5045</td>\n",
              "      <td>5135</td>\n",
              "      <td>5135</td>\n",
              "      <td>5319</td>\n",
              "      <td>5383</td>\n",
              "      <td>5437</td>\n",
              "      <td>5477</td>\n",
              "      <td>5567</td>\n",
              "      <td>5616</td>\n",
              "      <td>5725</td>\n",
              "      <td>5725</td>\n",
              "      <td>5872</td>\n",
              "      <td>5914</td>\n",
              "      <td>5951</td>\n",
              "      <td>6018</td>\n",
              "      <td>6066</td>\n",
              "      <td>6142</td>\n",
              "      <td>6207</td>\n",
              "      <td>6256</td>\n",
              "      <td>6304</td>\n",
              "    </tr>\n",
              "    <tr>\n",
              "      <th>4</th>\n",
              "      <td>NaN</td>\n",
              "      <td>Angola</td>\n",
              "      <td>-11.20270</td>\n",
              "      <td>17.873900</td>\n",
              "      <td>0</td>\n",
              "      <td>0</td>\n",
              "      <td>0</td>\n",
              "      <td>0</td>\n",
              "      <td>0</td>\n",
              "      <td>0</td>\n",
              "      <td>0</td>\n",
              "      <td>0</td>\n",
              "      <td>0</td>\n",
              "      <td>0</td>\n",
              "      <td>0</td>\n",
              "      <td>0</td>\n",
              "      <td>0</td>\n",
              "      <td>0</td>\n",
              "      <td>0</td>\n",
              "      <td>0</td>\n",
              "      <td>0</td>\n",
              "      <td>0</td>\n",
              "      <td>0</td>\n",
              "      <td>0</td>\n",
              "      <td>0</td>\n",
              "      <td>0</td>\n",
              "      <td>0</td>\n",
              "      <td>0</td>\n",
              "      <td>0</td>\n",
              "      <td>0</td>\n",
              "      <td>0</td>\n",
              "      <td>0</td>\n",
              "      <td>0</td>\n",
              "      <td>0</td>\n",
              "      <td>0</td>\n",
              "      <td>0</td>\n",
              "      <td>0</td>\n",
              "      <td>0</td>\n",
              "      <td>0</td>\n",
              "      <td>0</td>\n",
              "      <td>...</td>\n",
              "      <td>7096</td>\n",
              "      <td>7222</td>\n",
              "      <td>7462</td>\n",
              "      <td>7622</td>\n",
              "      <td>7829</td>\n",
              "      <td>8049</td>\n",
              "      <td>8338</td>\n",
              "      <td>8582</td>\n",
              "      <td>8829</td>\n",
              "      <td>9026</td>\n",
              "      <td>9381</td>\n",
              "      <td>9644</td>\n",
              "      <td>9871</td>\n",
              "      <td>10074</td>\n",
              "      <td>10269</td>\n",
              "      <td>10558</td>\n",
              "      <td>10805</td>\n",
              "      <td>11035</td>\n",
              "      <td>11228</td>\n",
              "      <td>11577</td>\n",
              "      <td>11813</td>\n",
              "      <td>12102</td>\n",
              "      <td>12223</td>\n",
              "      <td>12335</td>\n",
              "      <td>12433</td>\n",
              "      <td>12680</td>\n",
              "      <td>12816</td>\n",
              "      <td>12953</td>\n",
              "      <td>13053</td>\n",
              "      <td>13228</td>\n",
              "      <td>13374</td>\n",
              "      <td>13451</td>\n",
              "      <td>13615</td>\n",
              "      <td>13818</td>\n",
              "      <td>13922</td>\n",
              "      <td>14134</td>\n",
              "      <td>14267</td>\n",
              "      <td>14413</td>\n",
              "      <td>14493</td>\n",
              "      <td>14634</td>\n",
              "    </tr>\n",
              "  </tbody>\n",
              "</table>\n",
              "<p>5 rows × 311 columns</p>\n",
              "</div>"
            ],
            "text/plain": [
              "  Province/State Country/Region       Lat  ...  11/21/20  11/22/20  11/23/20\n",
              "0            NaN    Afghanistan  33.93911  ...     44503     44706     44988\n",
              "1            NaN        Albania  41.15330  ...     32196     32761     33556\n",
              "2            NaN        Algeria  28.03390  ...     73774     74862     75867\n",
              "3            NaN        Andorra  42.50630  ...      6207      6256      6304\n",
              "4            NaN         Angola -11.20270  ...     14413     14493     14634\n",
              "\n",
              "[5 rows x 311 columns]"
            ]
          },
          "metadata": {
            "tags": []
          },
          "execution_count": 3
        }
      ]
    },
    {
      "cell_type": "markdown",
      "metadata": {
        "id": "zBCTEWbLPXoJ"
      },
      "source": [
        "Kiválogatjuk a Magyarországhoz tartozó adatokat."
      ]
    },
    {
      "cell_type": "code",
      "metadata": {
        "id": "469JvKehBZun"
      },
      "source": [
        "df_hu = df.loc[df[\"Country/Region\"] == \"Hungary\"]"
      ],
      "execution_count": null,
      "outputs": []
    },
    {
      "cell_type": "code",
      "metadata": {
        "colab": {
          "base_uri": "https://localhost:8080/",
          "height": 128
        },
        "id": "ND_A4gc8BvV7",
        "outputId": "915c2bf0-44ba-4777-b327-9506edf787a1"
      },
      "source": [
        "df_hu.head()"
      ],
      "execution_count": null,
      "outputs": [
        {
          "output_type": "execute_result",
          "data": {
            "text/html": [
              "<div>\n",
              "<style scoped>\n",
              "    .dataframe tbody tr th:only-of-type {\n",
              "        vertical-align: middle;\n",
              "    }\n",
              "\n",
              "    .dataframe tbody tr th {\n",
              "        vertical-align: top;\n",
              "    }\n",
              "\n",
              "    .dataframe thead th {\n",
              "        text-align: right;\n",
              "    }\n",
              "</style>\n",
              "<table border=\"1\" class=\"dataframe\">\n",
              "  <thead>\n",
              "    <tr style=\"text-align: right;\">\n",
              "      <th></th>\n",
              "      <th>Province/State</th>\n",
              "      <th>Country/Region</th>\n",
              "      <th>Lat</th>\n",
              "      <th>Long</th>\n",
              "      <th>1/22/20</th>\n",
              "      <th>1/23/20</th>\n",
              "      <th>1/24/20</th>\n",
              "      <th>1/25/20</th>\n",
              "      <th>1/26/20</th>\n",
              "      <th>1/27/20</th>\n",
              "      <th>1/28/20</th>\n",
              "      <th>1/29/20</th>\n",
              "      <th>1/30/20</th>\n",
              "      <th>1/31/20</th>\n",
              "      <th>2/1/20</th>\n",
              "      <th>2/2/20</th>\n",
              "      <th>2/3/20</th>\n",
              "      <th>2/4/20</th>\n",
              "      <th>2/5/20</th>\n",
              "      <th>2/6/20</th>\n",
              "      <th>2/7/20</th>\n",
              "      <th>2/8/20</th>\n",
              "      <th>2/9/20</th>\n",
              "      <th>2/10/20</th>\n",
              "      <th>2/11/20</th>\n",
              "      <th>2/12/20</th>\n",
              "      <th>2/13/20</th>\n",
              "      <th>2/14/20</th>\n",
              "      <th>2/15/20</th>\n",
              "      <th>2/16/20</th>\n",
              "      <th>2/17/20</th>\n",
              "      <th>2/18/20</th>\n",
              "      <th>2/19/20</th>\n",
              "      <th>2/20/20</th>\n",
              "      <th>2/21/20</th>\n",
              "      <th>2/22/20</th>\n",
              "      <th>2/23/20</th>\n",
              "      <th>2/24/20</th>\n",
              "      <th>2/25/20</th>\n",
              "      <th>2/26/20</th>\n",
              "      <th>...</th>\n",
              "      <th>10/15/20</th>\n",
              "      <th>10/16/20</th>\n",
              "      <th>10/17/20</th>\n",
              "      <th>10/18/20</th>\n",
              "      <th>10/19/20</th>\n",
              "      <th>10/20/20</th>\n",
              "      <th>10/21/20</th>\n",
              "      <th>10/22/20</th>\n",
              "      <th>10/23/20</th>\n",
              "      <th>10/24/20</th>\n",
              "      <th>10/25/20</th>\n",
              "      <th>10/26/20</th>\n",
              "      <th>10/27/20</th>\n",
              "      <th>10/28/20</th>\n",
              "      <th>10/29/20</th>\n",
              "      <th>10/30/20</th>\n",
              "      <th>10/31/20</th>\n",
              "      <th>11/1/20</th>\n",
              "      <th>11/2/20</th>\n",
              "      <th>11/3/20</th>\n",
              "      <th>11/4/20</th>\n",
              "      <th>11/5/20</th>\n",
              "      <th>11/6/20</th>\n",
              "      <th>11/7/20</th>\n",
              "      <th>11/8/20</th>\n",
              "      <th>11/9/20</th>\n",
              "      <th>11/10/20</th>\n",
              "      <th>11/11/20</th>\n",
              "      <th>11/12/20</th>\n",
              "      <th>11/13/20</th>\n",
              "      <th>11/14/20</th>\n",
              "      <th>11/15/20</th>\n",
              "      <th>11/16/20</th>\n",
              "      <th>11/17/20</th>\n",
              "      <th>11/18/20</th>\n",
              "      <th>11/19/20</th>\n",
              "      <th>11/20/20</th>\n",
              "      <th>11/21/20</th>\n",
              "      <th>11/22/20</th>\n",
              "      <th>11/23/20</th>\n",
              "    </tr>\n",
              "  </thead>\n",
              "  <tbody>\n",
              "    <tr>\n",
              "      <th>142</th>\n",
              "      <td>NaN</td>\n",
              "      <td>Hungary</td>\n",
              "      <td>47.1625</td>\n",
              "      <td>19.5033</td>\n",
              "      <td>0</td>\n",
              "      <td>0</td>\n",
              "      <td>0</td>\n",
              "      <td>0</td>\n",
              "      <td>0</td>\n",
              "      <td>0</td>\n",
              "      <td>0</td>\n",
              "      <td>0</td>\n",
              "      <td>0</td>\n",
              "      <td>0</td>\n",
              "      <td>0</td>\n",
              "      <td>0</td>\n",
              "      <td>0</td>\n",
              "      <td>0</td>\n",
              "      <td>0</td>\n",
              "      <td>0</td>\n",
              "      <td>0</td>\n",
              "      <td>0</td>\n",
              "      <td>0</td>\n",
              "      <td>0</td>\n",
              "      <td>0</td>\n",
              "      <td>0</td>\n",
              "      <td>0</td>\n",
              "      <td>0</td>\n",
              "      <td>0</td>\n",
              "      <td>0</td>\n",
              "      <td>0</td>\n",
              "      <td>0</td>\n",
              "      <td>0</td>\n",
              "      <td>0</td>\n",
              "      <td>0</td>\n",
              "      <td>0</td>\n",
              "      <td>0</td>\n",
              "      <td>0</td>\n",
              "      <td>0</td>\n",
              "      <td>0</td>\n",
              "      <td>...</td>\n",
              "      <td>41732</td>\n",
              "      <td>43025</td>\n",
              "      <td>44816</td>\n",
              "      <td>46290</td>\n",
              "      <td>47768</td>\n",
              "      <td>48757</td>\n",
              "      <td>50180</td>\n",
              "      <td>52212</td>\n",
              "      <td>54278</td>\n",
              "      <td>56098</td>\n",
              "      <td>59247</td>\n",
              "      <td>61563</td>\n",
              "      <td>63642</td>\n",
              "      <td>65933</td>\n",
              "      <td>68127</td>\n",
              "      <td>71413</td>\n",
              "      <td>75321</td>\n",
              "      <td>79199</td>\n",
              "      <td>82780</td>\n",
              "      <td>86769</td>\n",
              "      <td>90988</td>\n",
              "      <td>94916</td>\n",
              "      <td>99625</td>\n",
              "      <td>104943</td>\n",
              "      <td>109616</td>\n",
              "      <td>114778</td>\n",
              "      <td>118918</td>\n",
              "      <td>122863</td>\n",
              "      <td>126790</td>\n",
              "      <td>131887</td>\n",
              "      <td>136723</td>\n",
              "      <td>140961</td>\n",
              "      <td>147456</td>\n",
              "      <td>152659</td>\n",
              "      <td>156949</td>\n",
              "      <td>161461</td>\n",
              "      <td>165901</td>\n",
              "      <td>170298</td>\n",
              "      <td>174618</td>\n",
              "      <td>177952</td>\n",
              "    </tr>\n",
              "  </tbody>\n",
              "</table>\n",
              "<p>1 rows × 311 columns</p>\n",
              "</div>"
            ],
            "text/plain": [
              "    Province/State Country/Region      Lat  ...  11/21/20  11/22/20  11/23/20\n",
              "142            NaN        Hungary  47.1625  ...    170298    174618    177952\n",
              "\n",
              "[1 rows x 311 columns]"
            ]
          },
          "metadata": {
            "tags": []
          },
          "execution_count": 6
        }
      ]
    },
    {
      "cell_type": "markdown",
      "metadata": {
        "id": "g8LHx8nuPbCQ"
      },
      "source": [
        "Eldobjuk a nem hasznos változókat."
      ]
    },
    {
      "cell_type": "code",
      "metadata": {
        "id": "8sKnCNIBCBwY"
      },
      "source": [
        "df_hu = df_hu.iloc[:, 4:]"
      ],
      "execution_count": null,
      "outputs": []
    },
    {
      "cell_type": "code",
      "metadata": {
        "colab": {
          "base_uri": "https://localhost:8080/",
          "height": 128
        },
        "id": "wzxY28x1CHbK",
        "outputId": "5491b3a9-69b9-4549-b70a-72bd22415aa3"
      },
      "source": [
        "df_hu.head()"
      ],
      "execution_count": null,
      "outputs": [
        {
          "output_type": "execute_result",
          "data": {
            "text/html": [
              "<div>\n",
              "<style scoped>\n",
              "    .dataframe tbody tr th:only-of-type {\n",
              "        vertical-align: middle;\n",
              "    }\n",
              "\n",
              "    .dataframe tbody tr th {\n",
              "        vertical-align: top;\n",
              "    }\n",
              "\n",
              "    .dataframe thead th {\n",
              "        text-align: right;\n",
              "    }\n",
              "</style>\n",
              "<table border=\"1\" class=\"dataframe\">\n",
              "  <thead>\n",
              "    <tr style=\"text-align: right;\">\n",
              "      <th></th>\n",
              "      <th>1/22/20</th>\n",
              "      <th>1/23/20</th>\n",
              "      <th>1/24/20</th>\n",
              "      <th>1/25/20</th>\n",
              "      <th>1/26/20</th>\n",
              "      <th>1/27/20</th>\n",
              "      <th>1/28/20</th>\n",
              "      <th>1/29/20</th>\n",
              "      <th>1/30/20</th>\n",
              "      <th>1/31/20</th>\n",
              "      <th>2/1/20</th>\n",
              "      <th>2/2/20</th>\n",
              "      <th>2/3/20</th>\n",
              "      <th>2/4/20</th>\n",
              "      <th>2/5/20</th>\n",
              "      <th>2/6/20</th>\n",
              "      <th>2/7/20</th>\n",
              "      <th>2/8/20</th>\n",
              "      <th>2/9/20</th>\n",
              "      <th>2/10/20</th>\n",
              "      <th>2/11/20</th>\n",
              "      <th>2/12/20</th>\n",
              "      <th>2/13/20</th>\n",
              "      <th>2/14/20</th>\n",
              "      <th>2/15/20</th>\n",
              "      <th>2/16/20</th>\n",
              "      <th>2/17/20</th>\n",
              "      <th>2/18/20</th>\n",
              "      <th>2/19/20</th>\n",
              "      <th>2/20/20</th>\n",
              "      <th>2/21/20</th>\n",
              "      <th>2/22/20</th>\n",
              "      <th>2/23/20</th>\n",
              "      <th>2/24/20</th>\n",
              "      <th>2/25/20</th>\n",
              "      <th>2/26/20</th>\n",
              "      <th>2/27/20</th>\n",
              "      <th>2/28/20</th>\n",
              "      <th>2/29/20</th>\n",
              "      <th>3/1/20</th>\n",
              "      <th>...</th>\n",
              "      <th>10/15/20</th>\n",
              "      <th>10/16/20</th>\n",
              "      <th>10/17/20</th>\n",
              "      <th>10/18/20</th>\n",
              "      <th>10/19/20</th>\n",
              "      <th>10/20/20</th>\n",
              "      <th>10/21/20</th>\n",
              "      <th>10/22/20</th>\n",
              "      <th>10/23/20</th>\n",
              "      <th>10/24/20</th>\n",
              "      <th>10/25/20</th>\n",
              "      <th>10/26/20</th>\n",
              "      <th>10/27/20</th>\n",
              "      <th>10/28/20</th>\n",
              "      <th>10/29/20</th>\n",
              "      <th>10/30/20</th>\n",
              "      <th>10/31/20</th>\n",
              "      <th>11/1/20</th>\n",
              "      <th>11/2/20</th>\n",
              "      <th>11/3/20</th>\n",
              "      <th>11/4/20</th>\n",
              "      <th>11/5/20</th>\n",
              "      <th>11/6/20</th>\n",
              "      <th>11/7/20</th>\n",
              "      <th>11/8/20</th>\n",
              "      <th>11/9/20</th>\n",
              "      <th>11/10/20</th>\n",
              "      <th>11/11/20</th>\n",
              "      <th>11/12/20</th>\n",
              "      <th>11/13/20</th>\n",
              "      <th>11/14/20</th>\n",
              "      <th>11/15/20</th>\n",
              "      <th>11/16/20</th>\n",
              "      <th>11/17/20</th>\n",
              "      <th>11/18/20</th>\n",
              "      <th>11/19/20</th>\n",
              "      <th>11/20/20</th>\n",
              "      <th>11/21/20</th>\n",
              "      <th>11/22/20</th>\n",
              "      <th>11/23/20</th>\n",
              "    </tr>\n",
              "  </thead>\n",
              "  <tbody>\n",
              "    <tr>\n",
              "      <th>142</th>\n",
              "      <td>0</td>\n",
              "      <td>0</td>\n",
              "      <td>0</td>\n",
              "      <td>0</td>\n",
              "      <td>0</td>\n",
              "      <td>0</td>\n",
              "      <td>0</td>\n",
              "      <td>0</td>\n",
              "      <td>0</td>\n",
              "      <td>0</td>\n",
              "      <td>0</td>\n",
              "      <td>0</td>\n",
              "      <td>0</td>\n",
              "      <td>0</td>\n",
              "      <td>0</td>\n",
              "      <td>0</td>\n",
              "      <td>0</td>\n",
              "      <td>0</td>\n",
              "      <td>0</td>\n",
              "      <td>0</td>\n",
              "      <td>0</td>\n",
              "      <td>0</td>\n",
              "      <td>0</td>\n",
              "      <td>0</td>\n",
              "      <td>0</td>\n",
              "      <td>0</td>\n",
              "      <td>0</td>\n",
              "      <td>0</td>\n",
              "      <td>0</td>\n",
              "      <td>0</td>\n",
              "      <td>0</td>\n",
              "      <td>0</td>\n",
              "      <td>0</td>\n",
              "      <td>0</td>\n",
              "      <td>0</td>\n",
              "      <td>0</td>\n",
              "      <td>0</td>\n",
              "      <td>0</td>\n",
              "      <td>0</td>\n",
              "      <td>0</td>\n",
              "      <td>...</td>\n",
              "      <td>41732</td>\n",
              "      <td>43025</td>\n",
              "      <td>44816</td>\n",
              "      <td>46290</td>\n",
              "      <td>47768</td>\n",
              "      <td>48757</td>\n",
              "      <td>50180</td>\n",
              "      <td>52212</td>\n",
              "      <td>54278</td>\n",
              "      <td>56098</td>\n",
              "      <td>59247</td>\n",
              "      <td>61563</td>\n",
              "      <td>63642</td>\n",
              "      <td>65933</td>\n",
              "      <td>68127</td>\n",
              "      <td>71413</td>\n",
              "      <td>75321</td>\n",
              "      <td>79199</td>\n",
              "      <td>82780</td>\n",
              "      <td>86769</td>\n",
              "      <td>90988</td>\n",
              "      <td>94916</td>\n",
              "      <td>99625</td>\n",
              "      <td>104943</td>\n",
              "      <td>109616</td>\n",
              "      <td>114778</td>\n",
              "      <td>118918</td>\n",
              "      <td>122863</td>\n",
              "      <td>126790</td>\n",
              "      <td>131887</td>\n",
              "      <td>136723</td>\n",
              "      <td>140961</td>\n",
              "      <td>147456</td>\n",
              "      <td>152659</td>\n",
              "      <td>156949</td>\n",
              "      <td>161461</td>\n",
              "      <td>165901</td>\n",
              "      <td>170298</td>\n",
              "      <td>174618</td>\n",
              "      <td>177952</td>\n",
              "    </tr>\n",
              "  </tbody>\n",
              "</table>\n",
              "<p>1 rows × 307 columns</p>\n",
              "</div>"
            ],
            "text/plain": [
              "     1/22/20  1/23/20  1/24/20  1/25/20  ...  11/20/20  11/21/20  11/22/20  11/23/20\n",
              "142        0        0        0        0  ...    165901    170298    174618    177952\n",
              "\n",
              "[1 rows x 307 columns]"
            ]
          },
          "metadata": {
            "tags": []
          },
          "execution_count": 8
        }
      ]
    },
    {
      "cell_type": "code",
      "metadata": {
        "colab": {
          "base_uri": "https://localhost:8080/"
        },
        "id": "bfNGEnEtCK9D",
        "outputId": "287d5894-6396-47bc-f1de-f33d55804614"
      },
      "source": [
        "daily_hu = df_hu.sum(axis = 0)\n",
        "daily_hu.index = pd.to_datetime(daily_hu.index)\n",
        "daily_hu.head()"
      ],
      "execution_count": null,
      "outputs": [
        {
          "output_type": "execute_result",
          "data": {
            "text/plain": [
              "2020-01-22    0\n",
              "2020-01-23    0\n",
              "2020-01-24    0\n",
              "2020-01-25    0\n",
              "2020-01-26    0\n",
              "dtype: int64"
            ]
          },
          "metadata": {
            "tags": []
          },
          "execution_count": 9
        }
      ]
    },
    {
      "cell_type": "code",
      "metadata": {
        "colab": {
          "base_uri": "https://localhost:8080/",
          "height": 282
        },
        "id": "IJEHif3VCdvR",
        "outputId": "289ffd81-a710-490a-8b68-058226e1e760"
      },
      "source": [
        "plt.plot(daily_hu)"
      ],
      "execution_count": null,
      "outputs": [
        {
          "output_type": "execute_result",
          "data": {
            "text/plain": [
              "[<matplotlib.lines.Line2D at 0x7f05d3b19278>]"
            ]
          },
          "metadata": {
            "tags": []
          },
          "execution_count": 10
        },
        {
          "output_type": "display_data",
          "data": {
            "image/png": "[encoded data removed]",
            "text/plain": [
              "<Figure size 432x288 with 1 Axes>"
            ]
          },
          "metadata": {
            "tags": [],
            "needs_background": "light"
          }
        }
      ]
    },
    {
      "cell_type": "markdown",
      "metadata": {
        "id": "AJnGD8FUPiTh"
      },
      "source": [
        "Kiszámoljuk a napi esetszámot, mivel egy összegzett esetszám adott."
      ]
    },
    {
      "cell_type": "code",
      "metadata": {
        "colab": {
          "base_uri": "https://localhost:8080/"
        },
        "id": "1lfC6rknCkx9",
        "outputId": "f0fb111f-9c50-4b7e-f79e-565872a73eed"
      },
      "source": [
        "daily_hu = daily_hu.diff().fillna(daily_hu[0]).astype(np.int64)\n",
        "daily_hu.head()"
      ],
      "execution_count": null,
      "outputs": [
        {
          "output_type": "execute_result",
          "data": {
            "text/plain": [
              "2020-01-22    0\n",
              "2020-01-23    0\n",
              "2020-01-24    0\n",
              "2020-01-25    0\n",
              "2020-01-26    0\n",
              "dtype: int64"
            ]
          },
          "metadata": {
            "tags": []
          },
          "execution_count": 11
        }
      ]
    },
    {
      "cell_type": "code",
      "metadata": {
        "colab": {
          "base_uri": "https://localhost:8080/",
          "height": 282
        },
        "id": "h0aBarvlCt19",
        "outputId": "70984b8c-45b7-4bdd-dd7c-d47f380c1149"
      },
      "source": [
        "plt.plot(daily_hu)"
      ],
      "execution_count": null,
      "outputs": [
        {
          "output_type": "execute_result",
          "data": {
            "text/plain": [
              "[<matplotlib.lines.Line2D at 0x7f05d3619390>]"
            ]
          },
          "metadata": {
            "tags": []
          },
          "execution_count": 12
        },
        {
          "output_type": "display_data",
          "data": {
            "image/png": "[encoded data removed]",
            "text/plain": [
              "<Figure size 432x288 with 1 Axes>"
            ]
          },
          "metadata": {
            "tags": [],
            "needs_background": "light"
          }
        }
      ]
    },
    {
      "cell_type": "markdown",
      "metadata": {
        "id": "ucdxp7nuPnzb"
      },
      "source": [
        "Eldobjuk a 0 értékeket az adatból."
      ]
    },
    {
      "cell_type": "code",
      "metadata": {
        "id": "eZLT9fRBJT0l"
      },
      "source": [
        "daily = daily_hu.loc[~(daily_hu==0)]"
      ],
      "execution_count": null,
      "outputs": []
    },
    {
      "cell_type": "code",
      "metadata": {
        "colab": {
          "base_uri": "https://localhost:8080/"
        },
        "id": "GFK0G7GqJj1s",
        "outputId": "b65b30fd-e3e3-4cf4-a78e-ec5d47d02bb9"
      },
      "source": [
        "print(daily)"
      ],
      "execution_count": null,
      "outputs": [
        {
          "output_type": "stream",
          "text": [
            "2020-03-04       2\n",
            "2020-03-07       2\n",
            "2020-03-08       3\n",
            "2020-03-09       2\n",
            "2020-03-11       4\n",
            "              ... \n",
            "2020-11-19    4512\n",
            "2020-11-20    4440\n",
            "2020-11-21    4397\n",
            "2020-11-22    4320\n",
            "2020-11-23    3334\n",
            "Length: 260, dtype: int64\n"
          ],
          "name": "stdout"
        }
      ]
    },
    {
      "cell_type": "markdown",
      "metadata": {
        "id": "2W2X23VGPqw5"
      },
      "source": [
        "Lefuttatjuk az ARIMA becslést."
      ]
    },
    {
      "cell_type": "code",
      "metadata": {
        "colab": {
          "base_uri": "https://localhost:8080/"
        },
        "id": "6fRQnBhJC63k",
        "outputId": "af837558-8acc-4e71-ee8e-c30037ebb2f7"
      },
      "source": [
        "model = pm.auto_arima(daily)"
      ],
      "execution_count": null,
      "outputs": [
        {
          "output_type": "stream",
          "text": [
            "/usr/local/lib/python3.6/dist-packages/statsmodels/base/model.py:568: ConvergenceWarning: Maximum Likelihood optimization failed to converge. Check mle_retvals\n",
            "  \"Check mle_retvals\", ConvergenceWarning)\n",
            "/usr/local/lib/python3.6/dist-packages/statsmodels/base/model.py:568: ConvergenceWarning: Maximum Likelihood optimization failed to converge. Check mle_retvals\n",
            "  \"Check mle_retvals\", ConvergenceWarning)\n"
          ],
          "name": "stderr"
        }
      ]
    },
    {
      "cell_type": "code",
      "metadata": {
        "colab": {
          "base_uri": "https://localhost:8080/"
        },
        "id": "TWfHDIpFDCrU",
        "outputId": "2f129c14-d68d-40f3-9f61-53f329f7b227"
      },
      "source": [
        "model.fit(daily)"
      ],
      "execution_count": null,
      "outputs": [
        {
          "output_type": "execute_result",
          "data": {
            "text/plain": [
              "ARIMA(maxiter=50, method='lbfgs', order=(0, 1, 4), out_of_sample_size=0,\n",
              "      scoring='mse', scoring_args={}, seasonal_order=(0, 0, 0, 0),\n",
              "      start_params=None, suppress_warnings=False, trend=None,\n",
              "      with_intercept=True)"
            ]
          },
          "metadata": {
            "tags": []
          },
          "execution_count": 19
        }
      ]
    },
    {
      "cell_type": "markdown",
      "metadata": {
        "id": "sS-C75HqPuch"
      },
      "source": [
        "Kiírjuk a modell paramétereit."
      ]
    },
    {
      "cell_type": "code",
      "metadata": {
        "colab": {
          "base_uri": "https://localhost:8080/",
          "height": 468
        },
        "id": "rZ7-ClJcDNH9",
        "outputId": "2407d76b-92b3-4458-caec-0f00fe41e7d1"
      },
      "source": [
        "model.summary()"
      ],
      "execution_count": null,
      "outputs": [
        {
          "output_type": "execute_result",
          "data": {
            "text/html": [
              "<table class=\"simpletable\">\n",
              "<caption>SARIMAX Results</caption>\n",
              "<tr>\n",
              "  <th>Dep. Variable:</th>           <td>y</td>        <th>  No. Observations:  </th>    <td>260</td>   \n",
              "</tr>\n",
              "<tr>\n",
              "  <th>Model:</th>           <td>SARIMAX(0, 1, 4)</td> <th>  Log Likelihood     </th> <td>-1805.921</td>\n",
              "</tr>\n",
              "<tr>\n",
              "  <th>Date:</th>            <td>Tue, 24 Nov 2020</td> <th>  AIC                </th> <td>3623.842</td> \n",
              "</tr>\n",
              "<tr>\n",
              "  <th>Time:</th>                <td>07:28:12</td>     <th>  BIC                </th> <td>3645.183</td> \n",
              "</tr>\n",
              "<tr>\n",
              "  <th>Sample:</th>                  <td>0</td>        <th>  HQIC               </th> <td>3632.423</td> \n",
              "</tr>\n",
              "<tr>\n",
              "  <th></th>                      <td> - 260</td>      <th>                     </th>     <td> </td>    \n",
              "</tr>\n",
              "<tr>\n",
              "  <th>Covariance Type:</th>        <td>opg</td>       <th>                     </th>     <td> </td>    \n",
              "</tr>\n",
              "</table>\n",
              "<table class=\"simpletable\">\n",
              "<tr>\n",
              "      <td></td>         <th>coef</th>     <th>std err</th>      <th>z</th>      <th>P>|z|</th>  <th>[0.025</th>    <th>0.975]</th>  \n",
              "</tr>\n",
              "<tr>\n",
              "  <th>intercept</th> <td>   14.8584</td> <td>   11.585</td> <td>    1.283</td> <td> 0.200</td> <td>   -7.849</td> <td>   37.565</td>\n",
              "</tr>\n",
              "<tr>\n",
              "  <th>ma.L1</th>     <td>   -0.3099</td> <td>    0.036</td> <td>   -8.624</td> <td> 0.000</td> <td>   -0.380</td> <td>   -0.239</td>\n",
              "</tr>\n",
              "<tr>\n",
              "  <th>ma.L2</th>     <td>   -0.1743</td> <td>    0.038</td> <td>   -4.563</td> <td> 0.000</td> <td>   -0.249</td> <td>   -0.099</td>\n",
              "</tr>\n",
              "<tr>\n",
              "  <th>ma.L3</th>     <td>    0.2475</td> <td>    0.025</td> <td>    9.845</td> <td> 0.000</td> <td>    0.198</td> <td>    0.297</td>\n",
              "</tr>\n",
              "<tr>\n",
              "  <th>ma.L4</th>     <td>   -0.1998</td> <td>    0.029</td> <td>   -6.877</td> <td> 0.000</td> <td>   -0.257</td> <td>   -0.143</td>\n",
              "</tr>\n",
              "<tr>\n",
              "  <th>sigma2</th>    <td> 6.716e+04</td> <td> 2424.879</td> <td>   27.695</td> <td> 0.000</td> <td> 6.24e+04</td> <td> 7.19e+04</td>\n",
              "</tr>\n",
              "</table>\n",
              "<table class=\"simpletable\">\n",
              "<tr>\n",
              "  <th>Ljung-Box (Q):</th>          <td>145.31</td> <th>  Jarque-Bera (JB):  </th> <td>2577.63</td>\n",
              "</tr>\n",
              "<tr>\n",
              "  <th>Prob(Q):</th>                 <td>0.00</td>  <th>  Prob(JB):          </th>  <td>0.00</td>  \n",
              "</tr>\n",
              "<tr>\n",
              "  <th>Heteroskedasticity (H):</th> <td>149.28</td> <th>  Skew:              </th>  <td>1.95</td>  \n",
              "</tr>\n",
              "<tr>\n",
              "  <th>Prob(H) (two-sided):</th>     <td>0.00</td>  <th>  Kurtosis:          </th>  <td>17.95</td> \n",
              "</tr>\n",
              "</table><br/><br/>Warnings:<br/>[1] Covariance matrix calculated using the outer product of gradients (complex-step)."
            ],
            "text/plain": [
              "<class 'statsmodels.iolib.summary.Summary'>\n",
              "\"\"\"\n",
              "                               SARIMAX Results                                \n",
              "==============================================================================\n",
              "Dep. Variable:                      y   No. Observations:                  260\n",
              "Model:               SARIMAX(0, 1, 4)   Log Likelihood               -1805.921\n",
              "Date:                Tue, 24 Nov 2020   AIC                           3623.842\n",
              "Time:                        07:28:12   BIC                           3645.183\n",
              "Sample:                             0   HQIC                          3632.423\n",
              "                                - 260                                         \n",
              "Covariance Type:                  opg                                         \n",
              "==============================================================================\n",
              "                 coef    std err          z      P>|z|      [0.025      0.975]\n",
              "------------------------------------------------------------------------------\n",
              "intercept     14.8584     11.585      1.283      0.200      -7.849      37.565\n",
              "ma.L1         -0.3099      0.036     -8.624      0.000      -0.380      -0.239\n",
              "ma.L2         -0.1743      0.038     -4.563      0.000      -0.249      -0.099\n",
              "ma.L3          0.2475      0.025      9.845      0.000       0.198       0.297\n",
              "ma.L4         -0.1998      0.029     -6.877      0.000      -0.257      -0.143\n",
              "sigma2      6.716e+04   2424.879     27.695      0.000    6.24e+04    7.19e+04\n",
              "===================================================================================\n",
              "Ljung-Box (Q):                      145.31   Jarque-Bera (JB):              2577.63\n",
              "Prob(Q):                              0.00   Prob(JB):                         0.00\n",
              "Heteroskedasticity (H):             149.28   Skew:                             1.95\n",
              "Prob(H) (two-sided):                  0.00   Kurtosis:                        17.95\n",
              "===================================================================================\n",
              "\n",
              "Warnings:\n",
              "[1] Covariance matrix calculated using the outer product of gradients (complex-step).\n",
              "\"\"\""
            ]
          },
          "metadata": {
            "tags": []
          },
          "execution_count": 20
        }
      ]
    },
    {
      "cell_type": "markdown",
      "metadata": {
        "id": "JTCWrS3VPxhZ"
      },
      "source": [
        "A következő 7 napra becslést végzünk."
      ]
    },
    {
      "cell_type": "code",
      "metadata": {
        "id": "hruE8NE2DT-w"
      },
      "source": [
        "output = model.predict(n_periods = 7)"
      ],
      "execution_count": null,
      "outputs": []
    },
    {
      "cell_type": "code",
      "metadata": {
        "colab": {
          "base_uri": "https://localhost:8080/"
        },
        "id": "8l5xt7kbDcRu",
        "outputId": "3a7520aa-445f-4229-ee12-05096fb34500"
      },
      "source": [
        "print(output)"
      ],
      "execution_count": null,
      "outputs": [
        {
          "output_type": "stream",
          "text": [
            "[3699.54885422 3911.30234452 3652.2989187  3903.71698781 3918.57540302\n",
            " 3933.43381824 3948.29223345]\n"
          ],
          "name": "stdout"
        }
      ]
    },
    {
      "cell_type": "code",
      "metadata": {
        "id": "rWhJrr-2Dg3P"
      },
      "source": [
        "predicted = pm.c(daily, output)"
      ],
      "execution_count": null,
      "outputs": []
    },
    {
      "cell_type": "markdown",
      "metadata": {
        "id": "mONVJQ2OP2b0"
      },
      "source": [
        "Kirajzoljuk az eredményeket."
      ]
    },
    {
      "cell_type": "code",
      "metadata": {
        "colab": {
          "base_uri": "https://localhost:8080/",
          "height": 282
        },
        "id": "xbbe8UrhDqc5",
        "outputId": "eb20f5a1-1ed4-4427-c157-528691e28bcc"
      },
      "source": [
        "plt.plot(daily_hu)"
      ],
      "execution_count": null,
      "outputs": [
        {
          "output_type": "execute_result",
          "data": {
            "text/plain": [
              "[<matplotlib.lines.Line2D at 0x7f05cffa9668>]"
            ]
          },
          "metadata": {
            "tags": []
          },
          "execution_count": 27
        },
        {
          "output_type": "display_data",
          "data": {
            "image/png": "[encoded data removed]",
            "text/plain": [
              "<Figure size 432x288 with 1 Axes>"
            ]
          },
          "metadata": {
            "tags": [],
            "needs_background": "light"
          }
        }
      ]
    },
    {
      "cell_type": "code",
      "metadata": {
        "colab": {
          "base_uri": "https://localhost:8080/",
          "height": 282
        },
        "id": "psnac1ZsDnhi",
        "outputId": "5f85a037-65ce-42f0-f3ca-e34fb291e6ca"
      },
      "source": [
        "plt.plot(predicted)"
      ],
      "execution_count": null,
      "outputs": [
        {
          "output_type": "execute_result",
          "data": {
            "text/plain": [
              "[<matplotlib.lines.Line2D at 0x7f05d00395f8>]"
            ]
          },
          "metadata": {
            "tags": []
          },
          "execution_count": 28
        },
        {
          "output_type": "display_data",
          "data": {
            "image/png": "[encoded data removed]",
            "text/plain": [
              "<Figure size 432x288 with 1 Axes>"
            ]
          },
          "metadata": {
            "tags": [],
            "needs_background": "light"
          }
        }
      ]
    }
  ]
}