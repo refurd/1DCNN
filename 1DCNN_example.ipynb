{
  "nbformat": 4,
  "nbformat_minor": 0,
  "metadata": {
    "colab": {
      "name": "1DCNN_example.ipynb",
      "provenance": []
    },
    "kernelspec": {
      "name": "python3",
      "display_name": "Python 3"
    }
  },
  "cells": [
    {
      "cell_type": "markdown",
      "metadata": {
        "id": "LaUM3ybhQDUB"
      },
      "source": [
        "# 1 dimenziós CNN PyTorch segítségével\n",
        "[PyTorch 1D CNN dokumentáció](https://pytorch.org/docs/stable/generated/torch.nn.Conv1d.html#torch.nn.Conv1d)"
      ]
    },
    {
      "cell_type": "markdown",
      "metadata": {
        "id": "bdJLQ5l_Qa-U"
      },
      "source": [
        "Importáljuk a legfontosabb könyvtárakat."
      ]
    },
    {
      "cell_type": "code",
      "metadata": {
        "id": "9g4im0FYg8B4"
      },
      "source": [
        "import torch\n",
        "import torch.nn as nn\n",
        "import torch.nn.functional as F\n",
        "import numpy as np"
      ],
      "execution_count": null,
      "outputs": []
    },
    {
      "cell_type": "markdown",
      "metadata": {
        "id": "CysgWqxAQd6b"
      },
      "source": [
        "Elkészítjük a bemeneti adatok (1 dimenziós jel). Ez lesz a feature_vector."
      ]
    },
    {
      "cell_type": "code",
      "metadata": {
        "colab": {
          "base_uri": "https://localhost:8080/"
        },
        "id": "L3k8-dNFjsq0",
        "outputId": "f3ae5870-c55c-4510-89cd-ef583ce1cbea"
      },
      "source": [
        "feature_vector = torch.tensor([3, 4, 3, 2, 1, 0, -1], dtype = torch.float)\n",
        "print(feature_vector.shape)"
      ],
      "execution_count": null,
      "outputs": [
        {
          "output_type": "stream",
          "text": [
            "torch.Size([7])\n",
            "torch.Size([1, 1, 7])\n"
          ],
          "name": "stdout"
        }
      ]
    },
    {
      "cell_type": "markdown",
      "metadata": {
        "id": "jvT5QaIEQj2j"
      },
      "source": [
        "Ezután tensor alakba kell hozni, vagyis 3 dimenziós alakba, az unsqueeze metódussal a 0. helyre új dimenziót szúrunk be."
      ]
    },
    {
      "cell_type": "code",
      "metadata": {
        "id": "ZJg6jjMMQCjN"
      },
      "source": [
        "feature_vector = feature_vector.unsqueeze(0).unsqueeze(0)\n",
        "print(feature_vector.shape)"
      ],
      "execution_count": null,
      "outputs": []
    },
    {
      "cell_type": "markdown",
      "metadata": {
        "id": "6uuW5JObQrAq"
      },
      "source": [
        "Ezután létrehozunk a Conv1d utasítással egy konvolúciós neurális hálót, ami 1 dimenziós jelet vár, 1 dimenzióra transzformál és 3 a filter mérete. Ezeket a filtereket kitöltjük konstans 1 értékkel."
      ]
    },
    {
      "cell_type": "code",
      "metadata": {
        "id": "J32mImEZkIQ1"
      },
      "source": [
        "cnn_model = nn.Conv1d(1, 1, 3)\n",
        "nn.init.constant_(cnn_model.weight, 1.)\n",
        "output = cnn_model(feature_vector)"
      ],
      "execution_count": null,
      "outputs": []
    },
    {
      "cell_type": "code",
      "metadata": {
        "colab": {
          "base_uri": "https://localhost:8080/"
        },
        "id": "Nf9ZftwQloDv",
        "outputId": "269be970-d762-4273-aca1-4474fffd9365"
      },
      "source": [
        "print(cnn_model.weight)"
      ],
      "execution_count": null,
      "outputs": [
        {
          "output_type": "stream",
          "text": [
            "Parameter containing:\n",
            "tensor([[[1., 1., 1.]]], requires_grad=True)\n"
          ],
          "name": "stdout"
        }
      ]
    },
    {
      "cell_type": "code",
      "metadata": {
        "id": "36miWpJhmDcU"
      },
      "source": [
        "filter = torch.tensor([[2., 5., -3]])"
      ],
      "execution_count": null,
      "outputs": []
    },
    {
      "cell_type": "code",
      "metadata": {
        "colab": {
          "base_uri": "https://localhost:8080/"
        },
        "id": "mGDUaCxnmWup",
        "outputId": "baa47245-a843-4f51-dc10-ed2af101626b"
      },
      "source": [
        "print(filter.shape)"
      ],
      "execution_count": null,
      "outputs": [
        {
          "output_type": "stream",
          "text": [
            "torch.Size([1, 3])\n"
          ],
          "name": "stdout"
        }
      ]
    },
    {
      "cell_type": "markdown",
      "metadata": {
        "id": "avqb8l02Q5EO"
      },
      "source": [
        "Itt megnéztük a view függvényt, ami hasonló az unsqueeze-hez, csak itt meg lehet adni a méretét a leendő tenzornak expliciten. (~reshape)"
      ]
    },
    {
      "cell_type": "code",
      "metadata": {
        "id": "5fcTieSImdBY"
      },
      "source": [
        "filter = filter.view(1, 1, 3)"
      ],
      "execution_count": null,
      "outputs": []
    },
    {
      "cell_type": "code",
      "metadata": {
        "colab": {
          "base_uri": "https://localhost:8080/"
        },
        "id": "HOicKCLrmhdi",
        "outputId": "96105bab-89f6-4e0a-d1ae-2a040b685e3d"
      },
      "source": [
        "print(filter)"
      ],
      "execution_count": null,
      "outputs": [
        {
          "output_type": "stream",
          "text": [
            "tensor([[[ 2.,  5., -3.]]])\n"
          ],
          "name": "stdout"
        }
      ]
    },
    {
      "cell_type": "markdown",
      "metadata": {
        "id": "O-FPmDKyREHg"
      },
      "source": [
        "Ezután amit létrehoztunk filter fogjuk alkalmazni a bemeneten. Itt adhatóak meg a különböző konvolúciós hálónál értelmezett paraméterek (padding, stride, dilation)."
      ]
    },
    {
      "cell_type": "code",
      "metadata": {
        "id": "QzoC-3c_mmOx"
      },
      "source": [
        "feature_map = F.conv1d(feature_vector, filter, padding = 1)"
      ],
      "execution_count": null,
      "outputs": []
    },
    {
      "cell_type": "code",
      "metadata": {
        "colab": {
          "base_uri": "https://localhost:8080/"
        },
        "id": "Bx0ogIHKnTer",
        "outputId": "efa7ab52-5804-4f22-c5ad-dd1a3e11ec44"
      },
      "source": [
        "print(feature_map)"
      ],
      "execution_count": null,
      "outputs": [
        {
          "output_type": "stream",
          "text": [
            "tensor([[[-44., -11.,  11.,  27.,  20.,   7.,  -5.]]])\n"
          ],
          "name": "stdout"
        }
      ]
    },
    {
      "cell_type": "markdown",
      "metadata": {
        "id": "VAmrVUBdRN9K"
      },
      "source": [
        "Ezután alkalmazünk egy relut a konvolúciós kimeneten."
      ]
    },
    {
      "cell_type": "code",
      "metadata": {
        "id": "UAptbi0ooVX1"
      },
      "source": [
        "feature_map = F.relu(feature_map)"
      ],
      "execution_count": null,
      "outputs": []
    },
    {
      "cell_type": "code",
      "metadata": {
        "colab": {
          "base_uri": "https://localhost:8080/"
        },
        "id": "NEOKk1ZQoiB9",
        "outputId": "1f0be33e-50f4-4d5a-f321-7859f470b474"
      },
      "source": [
        "print(feature_map)"
      ],
      "execution_count": null,
      "outputs": [
        {
          "output_type": "stream",
          "text": [
            "tensor([[[ 0.,  0., 11., 27., 20.,  7.,  0.]]])\n"
          ],
          "name": "stdout"
        }
      ]
    },
    {
      "cell_type": "markdown",
      "metadata": {
        "id": "tVShpD-bRRGh"
      },
      "source": [
        "Majd egy max poolingot és egy average poolingot."
      ]
    },
    {
      "cell_type": "code",
      "metadata": {
        "id": "3PdPSDSPoqV6"
      },
      "source": [
        "feature_map2 = F.max_pool1d(feature_map, kernel_size=2)"
      ],
      "execution_count": null,
      "outputs": []
    },
    {
      "cell_type": "code",
      "metadata": {
        "id": "dnQDWtI0pQx-"
      },
      "source": [
        "feature_map2 = F.avg_pool1d(feature_map, kernel_size = 2)"
      ],
      "execution_count": null,
      "outputs": []
    },
    {
      "cell_type": "code",
      "metadata": {
        "colab": {
          "base_uri": "https://localhost:8080/"
        },
        "id": "eBoNRlmgpIzI",
        "outputId": "682b675d-a951-4b14-8a71-c95574de781d"
      },
      "source": [
        "print(feature_map2)"
      ],
      "execution_count": null,
      "outputs": [
        {
          "output_type": "stream",
          "text": [
            "tensor([[[ 0.0000, 19.0000, 13.5000]]])\n"
          ],
          "name": "stdout"
        }
      ]
    }
  ]
}